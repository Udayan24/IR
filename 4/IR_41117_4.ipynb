{
 "cells": [
  {
   "cell_type": "markdown",
   "id": "dbab325e",
   "metadata": {},
   "source": [
    "<h1>IR Assignment 4 - 41117 (P1)</h1>"
   ]
  },
  {
   "cell_type": "markdown",
   "id": "d2189a8c",
   "metadata": {},
   "source": [
    "<b>Write a program to count the number of occurrences of each alphabetic \n",
    "character in the given dataset. The count for each letter should be case-insensitive (i.e., \n",
    "include both upper-case and lower-case versions of the letter; Ignore non-alphabetic \n",
    "characters). </b>"
   ]
  },
  {
   "cell_type": "code",
   "execution_count": 1,
   "id": "dea02b32",
   "metadata": {
    "scrolled": false
   },
   "outputs": [
    {
     "name": "stdout",
     "output_type": "stream",
     "text": [
      "Information retrieval (IR) may be defined as a software program that deals with the organization, storage, retrieval and evaluation of information from document repositories particularly textual information.\n",
      "\n",
      "The system assists users in finding the information they require but it does not explicitly return the answers of the questions.\n",
      "\n",
      "It informs the existence and location of documents that might consist of the required information.\n",
      "\n",
      "The documents that satisfy userâ€™s requirement are called relevant documents.\n",
      "\n",
      "A perfect IR system will retrieve only relevant documents.\n",
      "\n",
      "Seaborn is a Python data visualization library based on matplotlib.\n",
      "\n",
      "It provides a high-level interface for drawing attractive and informative statistical graphics.\n",
      "\n",
      "For a brief introduction to the ideas behind the library, you can read the introductory notes or the paper.\n"
     ]
    }
   ],
   "source": [
    "# Open a text file\n",
    "f = open('text_file2.txt', 'r')\n",
    "lines = f.readlines()\n",
    "\n",
    "# Print lines in the file\n",
    "n=len(lines)\n",
    "for i in range(n):\n",
    "    print(lines[i])"
   ]
  },
  {
   "cell_type": "code",
   "execution_count": 2,
   "id": "61659896",
   "metadata": {},
   "outputs": [
    {
     "name": "stdout",
     "output_type": "stream",
     "text": [
      "['Information', 'retrieval', '(IR)', 'may', 'be', 'defined', 'as', 'a', 'software', 'program', 'that', 'deals', 'with', 'the', 'organization,', 'storage,', 'retrieval', 'and', 'evaluation', 'of', 'information', 'from', 'document', 'repositories', 'particularly', 'textual', 'information.\\n', 'The', 'system', 'assists', 'users', 'in', 'finding', 'the', 'information', 'they', 'require', 'but', 'it', 'does', 'not', 'explicitly', 'return', 'the', 'answers', 'of', 'the', 'questions.\\n', 'It', 'informs', 'the', 'existence', 'and', 'location', 'of', 'documents', 'that', 'might', 'consist', 'of', 'the', 'required', 'information.\\n', 'The', 'documents', 'that', 'satisfy', 'userâ€™s', 'requirement', 'are', 'called', 'relevant', 'documents.\\n', 'A', 'perfect', 'IR', 'system', 'will', 'retrieve', 'only', 'relevant', 'documents.\\n', 'Seaborn', 'is', 'a', 'Python', 'data', 'visualization', 'library', 'based', 'on', 'matplotlib.\\n', 'It', 'provides', 'a', 'high-level', 'interface', 'for', 'drawing', 'attractive', 'and', 'informative', 'statistical', 'graphics.\\n', 'For', 'a', 'brief', 'introduction', 'to', 'the', 'ideas', 'behind', 'the', 'library,', 'you', 'can', 'read', 'the', 'introductory', 'notes', 'or', 'the', 'paper.']\n"
     ]
    }
   ],
   "source": [
    "# Store all words in a list\n",
    "totalW = []\n",
    "for i in lines:\n",
    "    words=i.split(' ')    \n",
    "    totalW.extend(words)\n",
    "\n",
    "print(totalW)"
   ]
  },
  {
   "cell_type": "code",
   "execution_count": 3,
   "id": "68d3f4ac",
   "metadata": {},
   "outputs": [
    {
     "name": "stdout",
     "output_type": "stream",
     "text": [
      "{'i': 66, 'n': 50, 'f': 21, 'o': 53, 'r': 59, 'm': 20, 'a': 60, 't': 80, 'e': 77, 'v': 11, 'l': 25, 'y': 13, 'b': 9, 'd': 24, 's': 43, 'w': 5, 'p': 11, 'g': 8, 'h': 23, 'z': 2, 'u': 20, 'c': 19, 'x': 3, 'q': 4}\n"
     ]
    }
   ],
   "source": [
    "# Store characters and their frequencies in a dictionary\n",
    "chars = {}\n",
    "\n",
    "for i in range(len(totalW)):\n",
    "    w=totalW[i]\n",
    "    \n",
    "    for j in range(len(w)):\n",
    "        x=w[j]\n",
    "        # Only select alphabetic data\n",
    "        if((x>='a' and x<='z') or (x>='A' and x<='Z')):\n",
    "            x = x.lower() # Converting character to lowercase\n",
    "            if x in chars:\n",
    "                chars[x] = chars[x] + 1\n",
    "            else:\n",
    "                chars[x] = 1\n",
    "                \n",
    "print(chars)"
   ]
  },
  {
   "cell_type": "code",
   "execution_count": 4,
   "id": "695490e7",
   "metadata": {},
   "outputs": [
    {
     "name": "stdout",
     "output_type": "stream",
     "text": [
      "('t', 80)\n",
      "('e', 77)\n",
      "('i', 66)\n",
      "('a', 60)\n",
      "('r', 59)\n",
      "('o', 53)\n",
      "('n', 50)\n",
      "('s', 43)\n",
      "('l', 25)\n",
      "('d', 24)\n",
      "('h', 23)\n",
      "('f', 21)\n",
      "('m', 20)\n",
      "('u', 20)\n",
      "('c', 19)\n",
      "('y', 13)\n",
      "('v', 11)\n",
      "('p', 11)\n",
      "('b', 9)\n",
      "('g', 8)\n",
      "('w', 5)\n",
      "('q', 4)\n",
      "('x', 3)\n",
      "('z', 2)\n"
     ]
    }
   ],
   "source": [
    "# Sorting dictionary chars\n",
    "chars_sorted = sorted(chars.items(), key=lambda kv: kv[1], reverse=True)\n",
    "\n",
    "# Printing characters by frequency\n",
    "n = len(chars_sorted)\n",
    "for i in range(n):\n",
    "    print(chars_sorted[i])"
   ]
  }
 ],
 "metadata": {
  "kernelspec": {
   "display_name": "Python 3 (ipykernel)",
   "language": "python",
   "name": "python3"
  },
  "language_info": {
   "codemirror_mode": {
    "name": "ipython",
    "version": 3
   },
   "file_extension": ".py",
   "mimetype": "text/x-python",
   "name": "python",
   "nbconvert_exporter": "python",
   "pygments_lexer": "ipython3",
   "version": "3.9.7"
  }
 },
 "nbformat": 4,
 "nbformat_minor": 5
}
