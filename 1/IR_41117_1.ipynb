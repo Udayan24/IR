{
 "cells": [
  {
   "cell_type": "markdown",
   "id": "7ae17266",
   "metadata": {},
   "source": [
    "<h1>IR Assignment 1 - 41117 (P1)</h1>"
   ]
  },
  {
   "cell_type": "markdown",
   "id": "55bf298f",
   "metadata": {},
   "source": [
    "<b>Write a program to compute similarity between two text documents</b>"
   ]
  },
  {
   "cell_type": "code",
   "execution_count": 25,
   "id": "a4b4fdb4",
   "metadata": {},
   "outputs": [],
   "source": [
    "# Import dependencies\n",
    "import math\n",
    "import string\n",
    "import sys\n",
    "  \n",
    "# Function to read a text file\n",
    "def read_file(filename): \n",
    "    with open(filename, 'r') as f:\n",
    "        data = f.read()\n",
    "    return data"
   ]
  },
  {
   "cell_type": "code",
   "execution_count": 26,
   "id": "d4cb522b",
   "metadata": {},
   "outputs": [],
   "source": [
    "# Replace punctuation marks with empty spaces and uppercase with lowercase characters\n",
    "# maketrans() returns a mapping table with replaced characters\n",
    "translation_table = str.maketrans(string.punctuation+string.ascii_uppercase, \" \"*len(string.punctuation)+string.ascii_lowercase)"
   ]
  },
  {
   "cell_type": "code",
   "execution_count": 27,
   "id": "8472a837",
   "metadata": {},
   "outputs": [],
   "source": [
    "# Function to split text to make words\n",
    "def split_text(text): \n",
    "    # Apply translation to text\n",
    "    text = text.translate(translation_table)\n",
    "    # Create a list of words\n",
    "    word_list = text.split()\n",
    "      \n",
    "    return word_list"
   ]
  },
  {
   "cell_type": "code",
   "execution_count": 28,
   "id": "40148e48",
   "metadata": {},
   "outputs": [],
   "source": [
    "# Function to return a dictionary with word and its frequency\n",
    "def count_frequency(word_list):  \n",
    "    D = {}\n",
    "    for w in word_list:\n",
    "        if w in D: # word already present\n",
    "            D[w] = D[w] + 1\n",
    "        else: # word not already present\n",
    "            D[w] = 1\n",
    "    return D"
   ]
  },
  {
   "cell_type": "code",
   "execution_count": 29,
   "id": "6a54cc9e",
   "metadata": {},
   "outputs": [],
   "source": [
    "# Function to display file statistics and return dictionary for file\n",
    "def file_wordf(filename): \n",
    "    # Create count_frequency dictionary for file\n",
    "    line_list = read_file(filename)\n",
    "    word_list = split_text(line_list)\n",
    "    freq_mapping = count_frequency(word_list)\n",
    "  \n",
    "    # Print file statistics\n",
    "    print(\"File:\", filename, \":\", )\n",
    "    print(\"No. lines:\", len(line_list))\n",
    "    print(\"No. words:\", len(word_list))\n",
    "    print(\"No. Distinct words:\", len(freq_mapping))\n",
    "  \n",
    "    return freq_mapping"
   ]
  },
  {
   "cell_type": "code",
   "execution_count": 30,
   "id": "f3966b27",
   "metadata": {},
   "outputs": [],
   "source": [
    "# Function to calculate dot product of two dictionaries\n",
    "def dotP(D1, D2): \n",
    "    Sum = 0.0 \n",
    "    for key in D1:\n",
    "        if key in D2:\n",
    "            Sum += (D1[key] * D2[key])    \n",
    "    return Sum"
   ]
  },
  {
   "cell_type": "code",
   "execution_count": 31,
   "id": "4fe29cf0",
   "metadata": {},
   "outputs": [],
   "source": [
    "def vector_angle(D1, D2): \n",
    "    n = dotP(D1, D2)\n",
    "    d = math.sqrt(dotP(D1, D1)) * math.sqrt(dotP(D2, D2))\n",
    "    \n",
    "    # Return cos^-1 in degrees\n",
    "    return 57.296*math.acos(n / d)"
   ]
  },
  {
   "cell_type": "markdown",
   "id": "1a3b3974",
   "metadata": {},
   "source": [
    "<b>text_file.txt</b><br><br>\n",
    "Information retrieval (IR) in computing and information science is the process of obtaining information system resources that\n",
    "are relevant to an information need from a collection of those resources. Searches can be based on full-text or other content-based indexing.\n",
    "Information retrieval is the science of searching for information in a document, searching for documents themselves, and also searching for \n",
    "the metadata that describes data, and for databases of texts, images or sounds.\n",
    "Automated information retrieval systems are used to reduce what has been called information overload. An IR system is a software system that \n",
    "provides access to books, journals and other documents; stores and manages those documents. Web search engines are the most visible IR applications.\n",
    "<br><br>\n",
    "<b>text_file2.txt</b><br><br>\n",
    "Information retrieval (IR) may be defined as a software program that deals with the organization, storage, retrieval and evaluation of information from document repositories particularly textual information. The system assists users in finding the information they require but it does not explicitly return the answers of the questions. It informs the existence and location of documents that might consist of the required information. The documents that satisfy user’s requirement are called relevant documents. A perfect IR system will retrieve only relevant documents."
   ]
  },
  {
   "cell_type": "code",
   "execution_count": 32,
   "id": "92e545e7",
   "metadata": {},
   "outputs": [
    {
     "name": "stdout",
     "output_type": "stream",
     "text": [
      "File: text_file.txt :\n",
      "No. lines: 779\n",
      "No. words: 118\n",
      "No. Distinct words: 70\n",
      "\n",
      "File: text_file2.txt :\n",
      "No. lines: 573\n",
      "No. words: 82\n",
      "No. Distinct words: 56\n",
      "\n",
      "Angle between vectors:  51.43235193321325 degrees\n"
     ]
    }
   ],
   "source": [
    "words1 = file_wordf('text_file.txt')\n",
    "print(\"\")\n",
    "words2 = file_wordf('text_file2.txt')\n",
    "\n",
    "distance = vector_angle(words1, words2)  \n",
    "\n",
    "print(\"\\nAngle between vectors: \", distance, \"degrees\")"
   ]
  }
 ],
 "metadata": {
  "kernelspec": {
   "display_name": "Python 3 (ipykernel)",
   "language": "python",
   "name": "python3"
  },
  "language_info": {
   "codemirror_mode": {
    "name": "ipython",
    "version": 3
   },
   "file_extension": ".py",
   "mimetype": "text/x-python",
   "name": "python",
   "nbconvert_exporter": "python",
   "pygments_lexer": "ipython3",
   "version": "3.9.7"
  }
 },
 "nbformat": 4,
 "nbformat_minor": 5
}
