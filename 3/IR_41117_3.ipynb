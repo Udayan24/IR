{
 "cells": [
  {
   "cell_type": "markdown",
   "id": "c3ff5b3e",
   "metadata": {},
   "source": [
    "<h1>IR Assignment 3 - 41117 (P1)</h1>"
   ]
  },
  {
   "cell_type": "markdown",
   "id": "1215c7b3",
   "metadata": {},
   "source": [
    "<b>Write a program for Pre-processing of a Text Document: Stop Word removal.</b>"
   ]
  },
  {
   "cell_type": "code",
   "execution_count": 1,
   "id": "865ab803",
   "metadata": {},
   "outputs": [
    {
     "name": "stderr",
     "output_type": "stream",
     "text": [
      "[nltk_data] Downloading package stopwords to\n",
      "[nltk_data]     C:\\Users\\udaya\\AppData\\Roaming\\nltk_data...\n",
      "[nltk_data]   Package stopwords is already up-to-date!\n"
     ]
    }
   ],
   "source": [
    "# Import required dependencies\n",
    "import io \n",
    "import nltk\n",
    "nltk.download('stopwords')\n",
    "\n",
    "from nltk.corpus import stopwords \n",
    "from nltk.tokenize import word_tokenize "
   ]
  },
  {
   "cell_type": "code",
   "execution_count": 2,
   "id": "c4a9efa7",
   "metadata": {
    "scrolled": true
   },
   "outputs": [
    {
     "name": "stdout",
     "output_type": "stream",
     "text": [
      "Information retrieval (IR) in computing and information science is the process of obtaining information system resources that\n",
      "are relevant to an information need from a collection of those resources. Searches can be based on full-text or other content-based indexing.\n",
      "Information retrieval is the science of searching for information in a document, searching for documents themselves, and also searching for \n",
      "the metadata that describes data, and for databases of texts, images or sounds.\n",
      "Automated information retrieval systems are used to reduce what has been called information overload. An IR system is a software system that \n",
      "provides access to books, journals and other documents; stores and manages those documents. Web search engines are the most visible IR applications.\n"
     ]
    }
   ],
   "source": [
    "# Open file as f\n",
    "f = open(\"text_file.txt\")\n",
    "line = f.read()\n",
    "print(line)"
   ]
  },
  {
   "cell_type": "code",
   "execution_count": 3,
   "id": "2b9334bd",
   "metadata": {},
   "outputs": [
    {
     "name": "stdout",
     "output_type": "stream",
     "text": [
      "{\"hadn't\", 'more', 'these', 'himself', 'who', 'has', 'shouldn', 'mightn', 'needn', 'than', 'while', 'or', 'both', 'such', 'hers', 'wasn', 'hadn', 'as', 'why', 'each', 'too', 'below', 'whom', 'doing', 'i', 'we', 'will', 'once', 'off', \"won't\", 'it', 'she', 'isn', 'through', 'hasn', 'at', 'between', 'from', 'against', 'he', 'down', 'weren', \"you'll\", 'here', 'under', \"couldn't\", 'him', 'but', 'few', 're', 'the', 'until', 'what', 'my', 'out', \"hasn't\", 'on', \"doesn't\", 'further', 'about', 'them', 'into', 'm', \"wasn't\", 'other', 'again', 'to', 'how', \"aren't\", \"mustn't\", 'ain', 'theirs', 'their', 'that', 'his', \"you're\", 'does', 'do', 'before', \"needn't\", \"mightn't\", 'those', 'with', \"you'd\", 'had', 'there', 'having', 'most', 't', \"that'll\", 'so', 'yours', 'no', 'up', 'all', 'doesn', 'll', 'your', 'an', 'o', 'our', 'aren', 'a', 'of', 'and', 'herself', 'can', 'now', 'd', \"shan't\", 'her', 'by', 'were', 'some', 'just', 'its', 'is', 'have', 'did', 'shan', 'nor', 'only', \"don't\", 'ours', 'itself', 'been', \"she's\", 'ourselves', 'you', 'won', 'didn', 'then', 'be', 'wouldn', 'yourself', 'myself', \"should've\", 'after', 'couldn', \"wouldn't\", 'being', 'in', \"shouldn't\", 'haven', 'ma', 'themselves', 'yourselves', 'me', 'was', 'they', 'don', \"haven't\", \"weren't\", \"isn't\", 'not', 's', 'very', 'are', 'any', 'should', 've', 'when', 'which', 'same', 'over', \"you've\", 'during', 'am', \"didn't\", 'y', 'mustn', 'own', \"it's\", 'if', 'above', 'where', 'this', 'because', 'for'}\n"
     ]
    }
   ],
   "source": [
    "# Create a new list for stop words\n",
    "stop_words = set(stopwords.words('english'))\n",
    "print(stop_words)"
   ]
  },
  {
   "cell_type": "code",
   "execution_count": 4,
   "id": "b42f3ef2",
   "metadata": {},
   "outputs": [],
   "source": [
    "# Tokenize text\n",
    "words = line.split() \n",
    "words_2=[]\n",
    "\n",
    "for r in words: \n",
    "    if not r in stop_words: \n",
    "        words_2.append(r)"
   ]
  },
  {
   "cell_type": "code",
   "execution_count": 5,
   "id": "0bd2b7ca",
   "metadata": {},
   "outputs": [
    {
     "name": "stdout",
     "output_type": "stream",
     "text": [
      "Original text: \n",
      "['Information', 'retrieval', '(IR)', 'in', 'computing', 'and', 'information', 'science', 'is', 'the', 'process', 'of', 'obtaining', 'information', 'system', 'resources', 'that', 'are', 'relevant', 'to', 'an', 'information', 'need', 'from', 'a', 'collection', 'of', 'those', 'resources.', 'Searches', 'can', 'be', 'based', 'on', 'full-text', 'or', 'other', 'content-based', 'indexing.', 'Information', 'retrieval', 'is', 'the', 'science', 'of', 'searching', 'for', 'information', 'in', 'a', 'document,', 'searching', 'for', 'documents', 'themselves,', 'and', 'also', 'searching', 'for', 'the', 'metadata', 'that', 'describes', 'data,', 'and', 'for', 'databases', 'of', 'texts,', 'images', 'or', 'sounds.', 'Automated', 'information', 'retrieval', 'systems', 'are', 'used', 'to', 'reduce', 'what', 'has', 'been', 'called', 'information', 'overload.', 'An', 'IR', 'system', 'is', 'a', 'software', 'system', 'that', 'provides', 'access', 'to', 'books,', 'journals', 'and', 'other', 'documents;', 'stores', 'and', 'manages', 'those', 'documents.', 'Web', 'search', 'engines', 'are', 'the', 'most', 'visible', 'IR', 'applications.']\n",
      "------------------------------------------------------------------------------------------------------------------------------------------\n",
      "Stop words removed: \n",
      "['Information', 'retrieval', '(IR)', 'computing', 'information', 'science', 'process', 'obtaining', 'information', 'system', 'resources', 'relevant', 'information', 'need', 'collection', 'resources.', 'Searches', 'based', 'full-text', 'content-based', 'indexing.', 'Information', 'retrieval', 'science', 'searching', 'information', 'document,', 'searching', 'documents', 'themselves,', 'also', 'searching', 'metadata', 'describes', 'data,', 'databases', 'texts,', 'images', 'sounds.', 'Automated', 'information', 'retrieval', 'systems', 'used', 'reduce', 'called', 'information', 'overload.', 'An', 'IR', 'system', 'software', 'system', 'provides', 'access', 'books,', 'journals', 'documents;', 'stores', 'manages', 'documents.', 'Web', 'search', 'engines', 'visible', 'IR', 'applications.']\n"
     ]
    }
   ],
   "source": [
    "print(\"Original text: \")\n",
    "print(words)\n",
    "\n",
    "print(\"-\"*138)\n",
    "\n",
    "print(\"Stop words removed: \")\n",
    "print(words_2)"
   ]
  }
 ],
 "metadata": {
  "kernelspec": {
   "display_name": "Python 3 (ipykernel)",
   "language": "python",
   "name": "python3"
  },
  "language_info": {
   "codemirror_mode": {
    "name": "ipython",
    "version": 3
   },
   "file_extension": ".py",
   "mimetype": "text/x-python",
   "name": "python",
   "nbconvert_exporter": "python",
   "pygments_lexer": "ipython3",
   "version": "3.9.7"
  }
 },
 "nbformat": 4,
 "nbformat_minor": 5
}
